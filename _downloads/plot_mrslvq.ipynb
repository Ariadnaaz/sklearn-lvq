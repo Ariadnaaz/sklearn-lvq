{
  "nbformat_minor": 0, 
  "nbformat": 4, 
  "cells": [
    {
      "execution_count": null, 
      "cell_type": "code", 
      "source": [
        "%matplotlib inline"
      ], 
      "outputs": [], 
      "metadata": {
        "collapsed": false
      }
    }, 
    {
      "source": [
        "\n# Matrix Robust Soft Learning Vector Quantization\n\nThis example shows the different glvq algorithms and how they project\ndifferent data sets. The data sets are chosen to show the strength of each\nalgorithm. Each plot shows for each data point which class it belongs to\n(big circle) and which class it was classified to (smaller circle). It also\nshows the prototypes (light blue circle). The projected data is shown in the\nright plot.\n\n\n"
      ], 
      "cell_type": "markdown", 
      "metadata": {}
    }, 
    {
      "execution_count": null, 
      "cell_type": "code", 
      "source": [
        "import numpy as np\nimport matplotlib.pyplot as plt\n\nfrom sklearn_lvq import MrslvqModel\nfrom sklearn_lvq.utils import plot2d\n\nprint(__doc__)\n\nnb_ppc = 100\ntoy_label = np.append(np.zeros(nb_ppc), np.ones(nb_ppc), axis=0)\n\nprint('MRSLVQ:')\ntoy_data = np.append(\n    np.random.multivariate_normal([0, 0], np.array([[5, 4], [4, 6]]),\n                                  size=nb_ppc),\n    np.random.multivariate_normal([9, 0], np.array([[5, 4], [4, 6]]),\n                                  size=nb_ppc), axis=0)\nmrslvq = MrslvqModel(sigma=1)\nmrslvq.fit(toy_data, toy_label)\n\nprint('classification accuracy:', mrslvq.score(toy_data, toy_label))\n#mrslvq.omega_ = np.asarray([[1,-0.11587113],[-0.11597687,0]])\nplot2d(mrslvq, toy_data, toy_label, 1, 'mrslvq')\nplt.show()"
      ], 
      "outputs": [], 
      "metadata": {
        "collapsed": false
      }
    }
  ], 
  "metadata": {
    "kernelspec": {
      "display_name": "Python 2", 
      "name": "python2", 
      "language": "python"
    }, 
    "language_info": {
      "mimetype": "text/x-python", 
      "nbconvert_exporter": "python", 
      "name": "python", 
      "file_extension": ".py", 
      "version": "2.7.11", 
      "pygments_lexer": "ipython2", 
      "codemirror_mode": {
        "version": 2, 
        "name": "ipython"
      }
    }
  }
}
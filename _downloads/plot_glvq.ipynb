{
  "nbformat_minor": 0, 
  "nbformat": 4, 
  "cells": [
    {
      "execution_count": null, 
      "cell_type": "code", 
      "source": [
        "%matplotlib inline"
      ], 
      "outputs": [], 
      "metadata": {
        "collapsed": false
      }
    }, 
    {
      "source": [
        "\n# Generalized Learning Vector Quantization\n\nThis example shows the different glvq algorithms and how they project\ndifferent data sets. The data sets are chosen to show the strength of each\nalgorithm. Each plot shows for each data point which class it belongs to\n(big circle) and which class it was classified to (smaller circle). It also\nshows the prototypes (light blue circle). The projected data is shown in the\nright plot.\n\n\n"
      ], 
      "cell_type": "markdown", 
      "metadata": {}
    }, 
    {
      "execution_count": null, 
      "cell_type": "code", 
      "source": [
        "import numpy as np\nimport matplotlib.pyplot as plt\n\nfrom glvq import GlvqModel\n\nprint(__doc__)\n\nnb_ppc = 100\nprint('GLVQ:')\ntoy_data = np.append(\n    np.random.multivariate_normal([0, 0], np.eye(2) / 2, size=nb_ppc),\n    np.random.multivariate_normal([5, 0], np.eye(2) / 2, size=nb_ppc), axis=0)\ntoy_label = np.append(np.zeros(nb_ppc), np.ones(nb_ppc), axis=0)\n\nglvq = GlvqModel()\nglvq.fit(toy_data, toy_label)\npred = glvq.predict(toy_data)\n\nplt.scatter(toy_data[:, 0], toy_data[:, 1], c=toy_label)\nplt.scatter(toy_data[:, 0], toy_data[:, 1], c=pred, marker='.')\nplt.scatter(glvq.w_[:, 0], glvq.w_[:, 1])\nplt.axis('equal')\n\nprint('classification accuracy:', glvq.score(toy_data, toy_label))\nplt.show()"
      ], 
      "outputs": [], 
      "metadata": {
        "collapsed": false
      }
    }
  ], 
  "metadata": {
    "kernelspec": {
      "display_name": "Python 2", 
      "name": "python2", 
      "language": "python"
    }, 
    "language_info": {
      "mimetype": "text/x-python", 
      "nbconvert_exporter": "python", 
      "name": "python", 
      "file_extension": ".py", 
      "version": "2.7.11", 
      "pygments_lexer": "ipython2", 
      "codemirror_mode": {
        "version": 2, 
        "name": "ipython"
      }
    }
  }
}
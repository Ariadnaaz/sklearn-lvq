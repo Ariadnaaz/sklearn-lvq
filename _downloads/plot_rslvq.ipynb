{
  "nbformat_minor": 0, 
  "nbformat": 4, 
  "cells": [
    {
      "execution_count": null, 
      "cell_type": "code", 
      "source": [
        "%matplotlib inline"
      ], 
      "outputs": [], 
      "metadata": {
        "collapsed": false
      }
    }, 
    {
      "source": [
        "\n# Robust Soft Learning Vector Quantization\n\nThis example shows the different glvq algorithms and how they project\ndifferent data sets. The data sets are chosen to show the strength of each\nalgorithm. Each plot shows for each data point which class it belongs to\n(big circle) and which class it was classified to (smaller circle). It also\nshows the prototypes (light blue circle). The projected data is shown in the\nright plot.\n\n\n"
      ], 
      "cell_type": "markdown", 
      "metadata": {}
    }, 
    {
      "execution_count": null, 
      "cell_type": "code", 
      "source": [
        "import numpy as np\nimport matplotlib.pyplot as plt\n\nfrom sklearn_lvq import RslvqModel\nfrom sklearn_lvq.utils import plot2d\n\nprint(__doc__)\n\nnb_ppc = 100\nprint('RSLVQ:')\nx = np.append(\n    np.random.multivariate_normal([0, 0], np.eye(2) / 2, size=nb_ppc),\n    np.random.multivariate_normal([5, 0], np.eye(2) / 2, size=nb_ppc), axis=0)\ny = np.append(np.zeros(nb_ppc), np.ones(nb_ppc), axis=0)\n\nrslvq = RslvqModel(initial_prototypes=[[5,0,0],[0,0,1]])\nrslvq.fit(x, y)\nplot2d(rslvq, x, y, 1, 'rslvq')\nprint('classification accuracy:', rslvq.score(x, y))\n\nplt.show()"
      ], 
      "outputs": [], 
      "metadata": {
        "collapsed": false
      }
    }
  ], 
  "metadata": {
    "kernelspec": {
      "display_name": "Python 2", 
      "name": "python2", 
      "language": "python"
    }, 
    "language_info": {
      "mimetype": "text/x-python", 
      "nbconvert_exporter": "python", 
      "name": "python", 
      "file_extension": ".py", 
      "version": "2.7.11", 
      "pygments_lexer": "ipython2", 
      "codemirror_mode": {
        "version": 2, 
        "name": "ipython"
      }
    }
  }
}
{
  "nbformat_minor": 0, 
  "nbformat": 4, 
  "cells": [
    {
      "execution_count": null, 
      "cell_type": "code", 
      "source": [
        "%matplotlib inline"
      ], 
      "outputs": [], 
      "metadata": {
        "collapsed": false
      }
    }, 
    {
      "source": [
        "\n# Robust Soft Learning Vector Quantization\n\nThis example shows the different glvq algorithms and how they project\ndifferent data sets. The data sets are chosen to show the strength of each\nalgorithm. Each plot shows for each data point which class it belongs to\n(big circle) and which class it was classified to (smaller circle). It also\nshows the prototypes (light blue circle). The projected data is shown in the\nright plot.\n\n\n"
      ], 
      "cell_type": "markdown", 
      "metadata": {}
    }, 
    {
      "execution_count": null, 
      "cell_type": "code", 
      "source": [
        "import numpy as np\nimport matplotlib.pyplot as plt\n\nfrom rslvq import RslvqModel\nfrom plot_2d import to_tango_colors, tango_color\n\nprint(__doc__)\n\nnb_ppc = 100\nprint('RSLVQ:')\nx = np.append(\n    np.random.multivariate_normal([0, 0], np.eye(2) / 2, size=nb_ppc),\n    np.random.multivariate_normal([5, 0], np.eye(2) / 2, size=nb_ppc), axis=0)\ny = np.append(np.zeros(nb_ppc), np.ones(nb_ppc), axis=0)\n\nrslvq = RslvqModel(initial_prototypes=[[5,0,0],[0,0,1]])\nrslvq.fit(x, y)\nprint('classification accuracy:', rslvq.score(x, y))\n\npred = rslvq.predict(x)\n\nplt.scatter(x[:, 0], x[:, 1], c=to_tango_colors(y), alpha=0.5)\nplt.scatter(x[:, 0], x[:, 1], c=to_tango_colors(pred), marker='.')\nplt.scatter(rslvq.w_[:, 0], rslvq.w_[:, 1],\n           c=tango_color('aluminium', 5), marker='D')\nplt.scatter(rslvq.w_[:, 0], rslvq.w_[:, 1],\n           c=to_tango_colors(rslvq.c_w_, 0), marker='.')\nplt.axis('equal')\n\nplt.show()"
      ], 
      "outputs": [], 
      "metadata": {
        "collapsed": false
      }
    }
  ], 
  "metadata": {
    "kernelspec": {
      "display_name": "Python 2", 
      "name": "python2", 
      "language": "python"
    }, 
    "language_info": {
      "mimetype": "text/x-python", 
      "nbconvert_exporter": "python", 
      "name": "python", 
      "file_extension": ".py", 
      "version": "2.7.11", 
      "pygments_lexer": "ipython2", 
      "codemirror_mode": {
        "version": 2, 
        "name": "ipython"
      }
    }
  }
}